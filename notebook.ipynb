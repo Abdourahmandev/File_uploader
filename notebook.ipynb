{
 "cells": [
  {
   "cell_type": "markdown",
   "id": "e4831651",
   "metadata": {},
   "source": [
    "# File Uploader Web App Setup\n",
    "This notebook sets up the Python environment and tests the kernel for the file uploader web app."
   ]
  },
  {
   "cell_type": "code",
   "execution_count": 1,
   "id": "76c7bbd0",
   "metadata": {},
   "outputs": [
    {
     "name": "stdout",
     "output_type": "stream",
     "text": [
      "Kernel is working!\n"
     ]
    }
   ],
   "source": [
    "# Test Python kernel\n",
    "print(\"Kernel is working!\")"
   ]
  }
 ],
 "metadata": {
  "kernelspec": {
   "display_name": "venv",
   "language": "python",
   "name": "python3"
  },
  "language_info": {
   "codemirror_mode": {
    "name": "ipython",
    "version": 3
   },
   "file_extension": ".py",
   "mimetype": "text/x-python",
   "name": "python",
   "nbconvert_exporter": "python",
   "pygments_lexer": "ipython3",
   "version": "3.13.5"
  }
 },
 "nbformat": 4,
 "nbformat_minor": 5
}
